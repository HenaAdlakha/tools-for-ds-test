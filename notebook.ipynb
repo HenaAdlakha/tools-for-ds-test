{
 "cells": [
  {
   "cell_type": "markdown",
   "source": [
    "# Open-Source Tools for Data Science: Peer-graded Assignment"
   ],
   "metadata": {
    "collapsed": false
   }
  },
  {
   "cell_type": "markdown",
   "source": [
    "## **Introduction**\n",
    "This is my submission for the final assignment of the \"Open-Source Tools for Data Science\" course provided by IBM, available one Coursera."
   ],
   "metadata": {
    "collapsed": false
   }
  },
  {
   "cell_type": "markdown",
   "source": [
    "Below is a list of a few data science languages\n",
    "\n",
    "1. Python\n",
    "2. R\n",
    "3. Julia\n",
    "4. MATLAB\n",
    "5. Scala\n",
    "6. Java\n",
    "7. C++\n",
    "8. Javascript"
   ],
   "metadata": {
    "collapsed": false
   }
  },
  {
   "cell_type": "markdown",
   "source": [
    "Below is a list with a few data science libraries:\n",
    "\n",
    "1. Pandas\n",
    "2. Numpy\n",
    "3. Matplotlib\n",
    "4. Seaborn\n",
    "5. Scikit-learn\n",
    "6. Keras\n",
    "7. TensorFlow\n",
    "8. PyTorch"
   ],
   "metadata": {
    "collapsed": false
   }
  },
  {
   "cell_type": "markdown",
   "source": [
    "Below is a table of Data Science tools:\n",
    "\n",
    "<br/>\n",
    "\n",
    "\n",
    "| Datascience Tools |\n",
    "|-------------------|\n",
    "| Anaconda          |\n",
    "| Jupyter Notebook  |\n",
    "| R Studio          |\n",
    "| Spyder            |\n",
    "| Zeppelin          |\n"
   ],
   "metadata": {
    "collapsed": false
   }
  },
  {
   "cell_type": "markdown",
   "source": [
    "### Below are some examples of evaluating arithmetic expressions in Python\n",
    "\n",
    "<br/>\n",
    "\n",
    "**The Cauchy-Schwarz Inequality**\n",
    "$$\\left( \\sum_{k=1}^n a_k b_k \\right)^2 \\leq \\left( \\sum_{k=1}^n a_k^2 \\right) \\left( \\sum_{k=1}^n b_k^2 \\right)$$\n",
    "<br/>\n",
    "\n",
    "**Second example**\n",
    "\n",
    "\\begin{equation*}\n",
    "P(E)   = {n \\choose k} p^k (1-p)^{ n-k}\n",
    "\\end{equation*}"
   ],
   "metadata": {
    "collapsed": false
   }
  },
  {
   "cell_type": "code",
   "execution_count": 6,
   "outputs": [
    {
     "data": {
      "text/plain": "17"
     },
     "execution_count": 6,
     "metadata": {},
     "output_type": "execute_result"
    }
   ],
   "source": [
    "#This is an arithmetic expression to multiply then add integers.\n",
    "\n",
    "(3*4)+5"
   ],
   "metadata": {
    "collapsed": false,
    "ExecuteTime": {
     "start_time": "2023-04-23T07:34:00.126845Z",
     "end_time": "2023-04-23T07:34:00.132153Z"
    }
   }
  },
  {
   "cell_type": "code",
   "execution_count": 7,
   "outputs": [
    {
     "data": {
      "text/plain": "3.3333333333333335"
     },
     "execution_count": 7,
     "metadata": {},
     "output_type": "execute_result"
    }
   ],
   "source": [
    "#This will convert 200 minutes to hours by dividing it by 60\n",
    "200/60\n"
   ],
   "metadata": {
    "collapsed": false,
    "ExecuteTime": {
     "start_time": "2023-04-23T07:34:00.131731Z",
     "end_time": "2023-04-23T07:34:00.142553Z"
    }
   }
  },
  {
   "cell_type": "markdown",
   "source": [
    "**Below are the objectives:**\n",
    "* Add comments to code cells\n",
    "* Create markdown cells\n",
    "* Add ordered and unordered lists to markdown cells\n",
    "* Format content of markdown cells with heading styles"
   ],
   "metadata": {
    "collapsed": false
   }
  },
  {
   "cell_type": "markdown",
   "source": [
    "## Author\n",
    "Jane Doe\n"
   ],
   "metadata": {
    "collapsed": false
   }
  }
 ],
 "metadata": {
  "kernelspec": {
   "display_name": "Python 3",
   "language": "python",
   "name": "python3"
  },
  "language_info": {
   "codemirror_mode": {
    "name": "ipython",
    "version": 2
   },
   "file_extension": ".py",
   "mimetype": "text/x-python",
   "name": "python",
   "nbconvert_exporter": "python",
   "pygments_lexer": "ipython2",
   "version": "2.7.6"
  }
 },
 "nbformat": 4,
 "nbformat_minor": 0
}
