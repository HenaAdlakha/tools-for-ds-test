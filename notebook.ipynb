{
 "cells": [
  {
   "cell_type": "markdown",
   "source": [
    "# Open-Source Tools for Data Science: Peer-graded Assignment"
   ],
   "metadata": {
    "collapsed": false
   }
  },
  {
   "cell_type": "markdown",
   "source": [
    "## **Introduction**\n",
    "This is my submission for the final assignment of the \"Open-Source Tools for Data Science\" course provided by IBM, available one Coursera."
   ],
   "metadata": {
    "collapsed": false
   }
  },
  {
   "cell_type": "markdown",
   "source": [
    "Below is a list of a few data science languages\n",
    "\n",
    "* Python\n",
    "* R\n",
    "* Julia\n",
    "* MATLAB"
   ],
   "metadata": {
    "collapsed": false
   }
  },
  {
   "cell_type": "markdown",
   "source": [
    "Below is a list with a few data science libraries:\n",
    "\n",
    "1. scikit-learn\n",
    "2. TensorFlow\n",
    "3. PyTorch\n",
    "4. SciPy\n",
    "5. Pandas"
   ],
   "metadata": {
    "collapsed": false
   }
  },
  {
   "cell_type": "markdown",
   "source": [
    "Below is a table of Data Science tools:\n",
    "\n",
    "<br/>\n",
    "\n",
    "\n",
    "| Databases   | Web Scraping   | Data Analytics | Machine Learning | Reporting        |\n",
    "|-------------|----------------|----------------|------------------|------------------|\n",
    "| DuckDB      | Beautiful Soup | Python         | TensorFlow       | Jupyter Notebook |\n",
    "| PostegreSQL | Zyte           | R              | FastAI           | Deepnote         |\n",
    "|             |                | Tableau        | PyTorch          | Dash             |"
   ],
   "metadata": {
    "collapsed": false
   }
  },
  {
   "cell_type": "markdown",
   "source": [
    "These are some arithmetic expression examples\n",
    "\n",
    "<br/>\n",
    "\n",
    "**The Cauchy-Schwarz Inequality**\n",
    "$$\\left( \\sum_{k=1}^n a_k b_k \\right)^2 \\leq \\left( \\sum_{k=1}^n a_k^2 \\right) \\left( \\sum_{k=1}^n b_k^2 \\right)$$\n",
    "<br/>\n",
    "\n",
    "**Second example**\n",
    "\n",
    "\\begin{equation*}\n",
    "P(E)   = {n \\choose k} p^k (1-p)^{ n-k}\n",
    "\\end{equation*}"
   ],
   "metadata": {
    "collapsed": false
   }
  },
  {
   "cell_type": "code",
   "execution_count": 11,
   "outputs": [
    {
     "data": {
      "text/plain": "(9, 20)"
     },
     "execution_count": 11,
     "metadata": {},
     "output_type": "execute_result"
    }
   ],
   "source": [
    "x=4\n",
    "y=5\n",
    "Sum = x + y\n",
    "Product = x * y\n",
    "Sum, Product"
   ],
   "metadata": {
    "collapsed": false,
    "ExecuteTime": {
     "start_time": "2023-04-22T00:44:00.950177Z",
     "end_time": "2023-04-22T00:44:00.961058Z"
    }
   }
  },
  {
   "cell_type": "code",
   "execution_count": 12,
   "outputs": [
    {
     "data": {
      "text/plain": "'59 minutes are  0.98 hours'"
     },
     "execution_count": 12,
     "metadata": {},
     "output_type": "execute_result"
    }
   ],
   "source": [
    "min = 59\n",
    "hours = min/60\n",
    "f\"{min} minutes are {hours: .2f} hours\""
   ],
   "metadata": {
    "collapsed": false,
    "ExecuteTime": {
     "start_time": "2023-04-22T00:44:00.956224Z",
     "end_time": "2023-04-22T00:44:00.968054Z"
    }
   }
  },
  {
   "cell_type": "markdown",
   "source": [
    "Below are the objectives:\n",
    "* To demonstrate my skills in Jupyter notebook, bro\n",
    "* To get credits for this course\n",
    "* To get the green tick\n",
    "* To refresh my memory on markdown"
   ],
   "metadata": {
    "collapsed": false
   }
  },
  {
   "cell_type": "markdown",
   "source": [
    "<div style=\"text-align: center\">\n",
    "Author's Name: Jane Doe\n",
    "<div>\n",
    "<hr>"
   ],
   "metadata": {
    "collapsed": false
   }
  }
 ],
 "metadata": {
  "kernelspec": {
   "display_name": "Python 3",
   "language": "python",
   "name": "python3"
  },
  "language_info": {
   "codemirror_mode": {
    "name": "ipython",
    "version": 2
   },
   "file_extension": ".py",
   "mimetype": "text/x-python",
   "name": "python",
   "nbconvert_exporter": "python",
   "pygments_lexer": "ipython2",
   "version": "2.7.6"
  }
 },
 "nbformat": 4,
 "nbformat_minor": 0
}
